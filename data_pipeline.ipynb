{
 "cells": [
  {
   "cell_type": "code",
   "execution_count": 43,
   "id": "1195be34-2f6c-4e09-b034-30e18b0e5925",
   "metadata": {},
   "outputs": [
    {
     "name": "stdout",
     "output_type": "stream",
     "text": [
      "Requirement already satisfied: yfinance in /Users/anshusahu/miniconda3/envs/new_base/lib/python3.13/site-packages (0.2.65)\n",
      "Requirement already satisfied: pandas>=1.3.0 in /Users/anshusahu/miniconda3/envs/new_base/lib/python3.13/site-packages (from yfinance) (2.3.1)\n",
      "Requirement already satisfied: numpy>=1.16.5 in /Users/anshusahu/miniconda3/envs/new_base/lib/python3.13/site-packages (from yfinance) (2.3.1)\n",
      "Requirement already satisfied: requests>=2.31 in /Users/anshusahu/miniconda3/envs/new_base/lib/python3.13/site-packages (from yfinance) (2.32.4)\n",
      "Requirement already satisfied: multitasking>=0.0.7 in /Users/anshusahu/miniconda3/envs/new_base/lib/python3.13/site-packages (from yfinance) (0.0.12)\n",
      "Requirement already satisfied: platformdirs>=2.0.0 in /Users/anshusahu/miniconda3/envs/new_base/lib/python3.13/site-packages (from yfinance) (4.3.7)\n",
      "Requirement already satisfied: pytz>=2022.5 in /Users/anshusahu/miniconda3/envs/new_base/lib/python3.13/site-packages (from yfinance) (2025.2)\n",
      "Requirement already satisfied: frozendict>=2.3.4 in /Users/anshusahu/miniconda3/envs/new_base/lib/python3.13/site-packages (from yfinance) (2.4.2)\n",
      "Requirement already satisfied: peewee>=3.16.2 in /Users/anshusahu/miniconda3/envs/new_base/lib/python3.13/site-packages (from yfinance) (3.18.2)\n",
      "Requirement already satisfied: beautifulsoup4>=4.11.1 in /Users/anshusahu/miniconda3/envs/new_base/lib/python3.13/site-packages (from yfinance) (4.13.4)\n",
      "Requirement already satisfied: curl_cffi>=0.7 in /Users/anshusahu/miniconda3/envs/new_base/lib/python3.13/site-packages (from yfinance) (0.13.0)\n",
      "Requirement already satisfied: protobuf>=3.19.0 in /Users/anshusahu/miniconda3/envs/new_base/lib/python3.13/site-packages (from yfinance) (6.31.1)\n",
      "Requirement already satisfied: websockets>=13.0 in /Users/anshusahu/miniconda3/envs/new_base/lib/python3.13/site-packages (from yfinance) (15.0.1)\n",
      "Requirement already satisfied: soupsieve>1.2 in /Users/anshusahu/miniconda3/envs/new_base/lib/python3.13/site-packages (from beautifulsoup4>=4.11.1->yfinance) (2.5)\n",
      "Requirement already satisfied: typing-extensions>=4.0.0 in /Users/anshusahu/miniconda3/envs/new_base/lib/python3.13/site-packages (from beautifulsoup4>=4.11.1->yfinance) (4.12.2)\n",
      "Requirement already satisfied: cffi>=1.12.0 in /Users/anshusahu/miniconda3/envs/new_base/lib/python3.13/site-packages (from curl_cffi>=0.7->yfinance) (1.17.1)\n",
      "Requirement already satisfied: certifi>=2024.2.2 in /Users/anshusahu/miniconda3/envs/new_base/lib/python3.13/site-packages (from curl_cffi>=0.7->yfinance) (2025.8.3)\n",
      "Requirement already satisfied: pycparser in /Users/anshusahu/miniconda3/envs/new_base/lib/python3.13/site-packages (from cffi>=1.12.0->curl_cffi>=0.7->yfinance) (2.21)\n",
      "Requirement already satisfied: python-dateutil>=2.8.2 in /Users/anshusahu/miniconda3/envs/new_base/lib/python3.13/site-packages (from pandas>=1.3.0->yfinance) (2.9.0.post0)\n",
      "Requirement already satisfied: tzdata>=2022.7 in /Users/anshusahu/miniconda3/envs/new_base/lib/python3.13/site-packages (from pandas>=1.3.0->yfinance) (2025.2)\n",
      "Requirement already satisfied: six>=1.5 in /Users/anshusahu/miniconda3/envs/new_base/lib/python3.13/site-packages (from python-dateutil>=2.8.2->pandas>=1.3.0->yfinance) (1.17.0)\n",
      "Requirement already satisfied: charset_normalizer<4,>=2 in /Users/anshusahu/miniconda3/envs/new_base/lib/python3.13/site-packages (from requests>=2.31->yfinance) (3.3.2)\n",
      "Requirement already satisfied: idna<4,>=2.5 in /Users/anshusahu/miniconda3/envs/new_base/lib/python3.13/site-packages (from requests>=2.31->yfinance) (3.7)\n",
      "Requirement already satisfied: urllib3<3,>=1.21.1 in /Users/anshusahu/miniconda3/envs/new_base/lib/python3.13/site-packages (from requests>=2.31->yfinance) (2.5.0)\n",
      "Note: you may need to restart the kernel to use updated packages.\n"
     ]
    }
   ],
   "source": [
    "pip install yfinance"
   ]
  },
  {
   "cell_type": "code",
   "execution_count": 49,
   "id": "45eb17b8-8233-4568-a5d8-14e82352a824",
   "metadata": {},
   "outputs": [],
   "source": [
    "import pandas as pd\n",
    "from sklearn.preprocessing import LabelEncoder, StandardScaler\n",
    "from sklearn.model_selection import train_test_split"
   ]
  },
  {
   "cell_type": "code",
   "execution_count": 54,
   "id": "01019920-b50e-4714-abe1-96c6d5317bbe",
   "metadata": {},
   "outputs": [],
   "source": [
    "class DataPipeline:\n",
    "    def __init__(self):\n",
    "        self.label_encoders = {}\n",
    "        self.scaler = StandardScaler()\n",
    "        self.original_data = None     # Backup of raw data\n",
    "        self.removed_rows = None      # Track duplicates if needed\n",
    "\n",
    "    # Load data\n",
    "    def load_data(self, file_path):\n",
    "        df = pd.read_csv(file_path)\n",
    "        self.original_data = df.copy()   # Save raw copy\n",
    "        print(f\"Data loaded: {df.shape[0]} rows, {df.shape[1]} columns\")\n",
    "        return df\n",
    "\n",
    "    # Clean data\n",
    "    def clean_data(self, df, fill_strategy=\"mean\"):\n",
    "        # Remove duplicates\n",
    "        before_rows = df.shape[0]\n",
    "        df = df.drop_duplicates()\n",
    "        after_rows = df.shape[0]\n",
    "        if before_rows != after_rows:\n",
    "            print(f\"{before_rows - after_rows} duplicate rows removed.\")\n",
    "\n",
    "        # Fill numeric columns\n",
    "        numeric_cols = df.select_dtypes(include=[\"number\"]).columns\n",
    "        for col in numeric_cols:\n",
    "            if df[col].isnull().sum() > 0:\n",
    "                if fill_strategy == \"mean\":\n",
    "                    df[col].fillna(df[col].mean())\n",
    "                elif fill_strategy == \"median\":\n",
    "                    df[col].fillna(df[col].median())\n",
    "\n",
    "        # Fill categorical columns\n",
    "        cat_cols = df.select_dtypes(include=[\"object\"]).columns\n",
    "        for col in cat_cols:\n",
    "            if df[col].isnull().sum() > 0:\n",
    "                df[col].fillna(\"Unknown\")\n",
    "\n",
    "        return df\n",
    "\n",
    "    # Encode categorical columns\n",
    "    def encode_data(self, df):\n",
    "        cat_cols = df.select_dtypes(include=[\"object\"]).columns\n",
    "        for col in cat_cols:\n",
    "            le = LabelEncoder()\n",
    "            df[col] = le.fit_transform(df[col].astype(str))\n",
    "            self.label_encoders[col] = le\n",
    "        return df\n",
    "\n",
    "    # Scale numeric columns (ignore Date)\n",
    "    def scale_data(self, df):\n",
    "        numeric_cols = df.select_dtypes(include=[\"number\"]).columns.drop(\"Date\", errors=\"ignore\")\n",
    "        df[numeric_cols] = self.scaler.fit_transform(df[numeric_cols])\n",
    "        return df\n",
    "\n",
    "    # Run complete pipeline\n",
    "    def run(self, file_path, save_output=True):\n",
    "        df = self.load_data(file_path)\n",
    "        df = self.clean_data(df)\n",
    "        df = self.encode_data(df)\n",
    "        df = self.scale_data(df)\n",
    "\n",
    "        if save_output:\n",
    "            self.original_data.to_csv(\"original_data.csv\", index=False)\n",
    "            df.to_csv(\"processed_data.csv\", index=False)\n",
    "            print(\"📂 Saved 'original_data.csv' and 'processed_data.csv'\")\n",
    "\n",
    "        return df\n"
   ]
  },
  {
   "cell_type": "code",
   "execution_count": 55,
   "id": "9748b817-7711-4810-84bf-5900ff908da4",
   "metadata": {},
   "outputs": [
    {
     "name": "stderr",
     "output_type": "stream",
     "text": [
      "/var/folders/nn/ly3fnv_x5370m1j4dm0mlld00000gn/T/ipykernel_10191/2785785000.py:3: FutureWarning: YF.download() has changed argument auto_adjust default to True\n",
      "  df = yf.download(\"RELIANCE.NS\", start=\"2025-01-01\", end=\"2025-01-03\")\n",
      "[*********************100%***********************]  1 of 1 completed"
     ]
    },
    {
     "name": "stdout",
     "output_type": "stream",
     "text": [
      "Data loaded: 3 rows, 6 columns\n",
      "📂 Saved 'original_data.csv' and 'processed_data.csv'\n",
      "   Date     Close      High       Low      Open    Volume\n",
      "0     2  1.224745  1.224745  1.224745  1.224745  1.224745\n",
      "1     0 -1.224745 -1.224745 -1.224745 -1.224745  0.000000\n",
      "2     1  0.000000  0.000000  0.000000  0.000000 -1.224745\n"
     ]
    },
    {
     "name": "stderr",
     "output_type": "stream",
     "text": [
      "\n"
     ]
    }
   ],
   "source": [
    "\n",
    "import yfinance as yf\n",
    "\n",
    "df = yf.download(\"RELIANCE.NS\", start=\"2025-01-01\", end=\"2025-01-03\")\n",
    "df.reset_index(inplace=True)  \n",
    "\n",
    "df.to_csv(\"reliance_stock.csv\", index=False)\n",
    "\n",
    "pipeline = DataPipeline()\n",
    "processed_df = pipeline.run(\"reliance_stock.csv\")\n",
    "\n",
    "print(processed_df.head())\n"
   ]
  },
  {
   "cell_type": "code",
   "execution_count": null,
   "id": "e8d00c2e-19a2-430e-beed-555601f09911",
   "metadata": {},
   "outputs": [],
   "source": []
  }
 ],
 "metadata": {
  "kernelspec": {
   "display_name": "Python 3 (ipykernel)",
   "language": "python",
   "name": "python3"
  },
  "language_info": {
   "codemirror_mode": {
    "name": "ipython",
    "version": 3
   },
   "file_extension": ".py",
   "mimetype": "text/x-python",
   "name": "python",
   "nbconvert_exporter": "python",
   "pygments_lexer": "ipython3",
   "version": "3.11.4"
  }
 },
 "nbformat": 4,
 "nbformat_minor": 5
}
